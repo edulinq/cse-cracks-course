{
 "cells": [
  {
   "cell_type": "markdown",
   "id": "f24bf10d-373b-46a7-9c84-820148d79cf9",
   "metadata": {},
   "source": [
    "# Regular Expressions\n",
    "\n",
    "[Regular expressions](https://en.wikipedia.org/wiki/Regular_expression) (also called \"regexp\" or \"regex\") are patterns that let you find matching text.\n",
    "Think of them like mathematical expressions for text (an equation can define a line (collection of points), and a regex can define a collection of strings).\n",
    "When starting off, regular expressions can be pretty confusing.\n",
    "But once you get comfortable using them, you start to see how they can be used in almost all of your everyday coding.\n",
    "\n",
    "<center><img src=\"xkcd-regular-expressions.png\"/ width=600px></center>\n",
    "<center style='font-size: small'>Comic courtesy of <a href='https://xkcd.com/208'>xkcd</a></center>\n",
    "\n",
    "Aside from this assignment, here are some resources on regular expressions that you may find helpful:\n",
    " - [Text Tutorial](https://www.sitepoint.com/learn-regex/)\n",
    " - [Video Tutorial](https://www.youtube.com/watch?v=sa-TUpSx1JA)\n",
    " - [Cheat Sheet](https://cheatography.com/davechild/cheat-sheets/regular-expressions/)\n",
    " - [Regex Playground](https://regex101.com/) (Interactively create, test, and visualize regular expressions.)\n",
    " - [Python Regex Tutorial](https://docs.python.org/3/howto/regex.html)\n",
    "\n",
    "Take your time and break down the regex into one piece at a time."
   ]
  },
  {
   "cell_type": "markdown",
   "id": "661f5fb0-5daf-4135-83c1-b26ad9ffde3b",
   "metadata": {},
   "source": [
    "## Regular Expressions in Python\n",
    "\n",
    "We will be using Python for this exercise (hence the iPython notebook),\n",
    "so we will be using the `re` Python standard library.\n",
    "Almost every major programming language has regular expressions either built-in or supported in a standard library.\n",
    "There may be slight variations in the syntax and semantics from language to language,\n",
    "but the core functionality will all be the same.\n",
    "\n",
    "In code and documentation, we will often refer to a regex as a \"pattern\".\n",
    "\n",
    "### re.search()\n",
    "\n",
    "In this assignment (and probably most of your Python regex usage),\n",
    "we will be using the method `re.search()`.\n",
    "`re.search()` takes two required arguments,\n",
    "first the regex and then the string to search in.\n",
    "\n",
    "There is another method `re.match()` that is subtly different,\n",
    "and you will probably want to avoid.\n",
    "`re.search()` looks for a match within a string (and it can be the entire string).\n",
    "`re.match()` tries to match **the entire** string.\n",
    "Latter in this assignment, we will discuss how to recreate the functionality of `re.match()`\n",
    "in a more explicit and less error-pone way.\n",
    "\n",
    "### \"Normal\" Characters\n",
    "\n",
    "The most simple regular expressions can be used to match strings in the same way that you would use another string to match a string\n",
    "(like if you were using [`str.find()`](https://docs.python.org/3/library/stdtypes.html#str.find) or [`str.replace()`](https://docs.python.org/3/library/stdtypes.html#str.replace).\n",
    "Just type the characters that you want to match.\n",
    "In fact, in Python strings are used to represent regular expressions.\n",
    "\n",
    "For example, the string `\"foo\"` can be used as a regular expression to match \"foo\", \"food\", \"foo bar\", and literally infinite other strings."
   ]
  },
  {
   "cell_type": "code",
   "execution_count": null,
   "id": "0d8a6819-18cd-4e60-84bf-bc83cd9e45a4",
   "metadata": {},
   "outputs": [],
   "source": [
    "import re\n",
    "\n",
    "string = \"What is 'foo bar'?\"\n",
    "print(re.search('foo', string))"
   ]
  },
  {
   "cell_type": "markdown",
   "id": "c72668f3-affe-4e63-9250-35f635666707",
   "metadata": {},
   "source": [
    "### Special Characters\n",
    "\n",
    "There are a few special characters that you will need to be aware of.\n",
    "Here is a list of them, but we will describe each of them throughout this assignment:\n",
    "\n",
    " - `.`\n",
    " - `^`\n",
    " - `$`\n",
    " - `*`\n",
    " - `+`\n",
    " - `?`\n",
    " - `{`\n",
    " - `}`\n",
    " - `[`\n",
    " - `]`\n",
    " - `\\`\n",
    " - `|`\n",
    " - `(`\n",
    " - `)`\n",
    "\n",
    "When you want to match one of these characters literally, you will need to escape it with a backslash (`\\`).\n",
    "\n",
    "### Raw Strings\n",
    "\n",
    "When writing regular expressions in Python, you will probably want to use a [\"raw string\"](https://docs.python.org/3/reference/lexical_analysis.html#escape-sequences).\n",
    "Raw strings do not interpret escape characters, so you don't have to double escape backslashes or accidentally create escape characters."
   ]
  },
  {
   "cell_type": "code",
   "execution_count": null,
   "id": "d8a09321-b84f-42b3-8757-461dbb7f7b3a",
   "metadata": {},
   "outputs": [],
   "source": [
    "string = 'A literal backslash: \"\\\\\"'\n",
    "raw_string = r'A literal backslash: \"\\\"'\n",
    "\n",
    "print(\"string:     \", string)\n",
    "print(\"raw string: \", raw_string)\n",
    "print(string == raw_string)"
   ]
  },
  {
   "cell_type": "markdown",
   "id": "e0877679-ba98-4447-bfbc-9909f6518aee",
   "metadata": {},
   "source": [
    "To test your understanding of the concepts throughout this assignment,\n",
    "we will use a game called \"Regex Golf\".\n",
    "In Regex Golf, you have will have two sets of strings.\n",
    "You want to match all the strings in the first list, while not matching all the string in the second list."
   ]
  },
  {
   "cell_type": "code",
   "execution_count": null,
   "id": "f463a220-bb3b-407e-be39-aa1a508459ae",
   "metadata": {},
   "outputs": [],
   "source": [
    "def regex_golf(regex, match_list = [], nomatch_list = []):\n",
    "    errors = []\n",
    "\n",
    "    if ((regex is None) or (regex == '')):\n",
    "        print(\"Error: No regex provided.\")\n",
    "        return False\n",
    "    \n",
    "    for match_value in match_list:\n",
    "        match = re.search(regex, match_value)\n",
    "        if (match is None):\n",
    "            errors.append(\"Error: Failed to match '%s'.\" % (match_value))\n",
    "    \n",
    "    for nomatch_value in nomatch_list:\n",
    "        match = re.search(regex, nomatch_value)\n",
    "        if (match is not None):\n",
    "            errors.append(\"Error: Incorrectly matched '%s'.\" % (nomatch_value))\n",
    "\n",
    "    if (len(errors) == 0):\n",
    "        print(\"Great job!\")\n",
    "        return True\n",
    "    else:\n",
    "        print(\"You have some golfing errors, try again.\")\n",
    "        for error in errors:\n",
    "            print(\"    \" + error)\n",
    "        return False"
   ]
  },
  {
   "cell_type": "code",
   "execution_count": null,
   "id": "f734d4b5-d81b-4938-9241-0dc95fb78970",
   "metadata": {},
   "outputs": [],
   "source": [
    "matches = [\n",
    "    'foo',\n",
    "    'foorbar',\n",
    "    'football'\n",
    "]\n",
    "\n",
    "nomatches = [\n",
    "    'forty',\n",
    "    'FOO',\n",
    "    'bar',\n",
    "    '123',\n",
    "]\n",
    "\n",
    "regex = r'foo'\n",
    "regex_golf(regex, matches, nomatches)"
   ]
  },
  {
   "cell_type": "markdown",
   "id": "5b36bde2-f378-4dfb-820b-f3acddcf4c2e",
   "metadata": {},
   "source": [
    "<h3 style=\"color: darkorange\";>★ Task 1: My First Match</h3>\n",
    "\n",
    "Write a regular expression (assigned in the `TASK1_REGEX` variable) that matches the sequence \"cat\" (all lowercase).\n",
    "Note that you don't have to match the entire string, just a part of it.\n",
    "\n",
    "A small golfing instance is provided to get you started, but the autograder will check more cases."
   ]
  },
  {
   "cell_type": "code",
   "execution_count": null,
   "id": "cea6b943-1adb-4be1-80d3-cf5747a983cf",
   "metadata": {},
   "outputs": [],
   "source": [
    "# Put your Task 1 regular expression here.\n",
    "TASK1_REGEX = r''\n",
    "\n",
    "cats = ['cat', 'cats', 'some cat', 'categories']\n",
    "non_cats = ['dog', 'cta']\n",
    "regex_golf(TASK1_REGEX, match_list = cats, nomatch_list = non_cats)"
   ]
  },
  {
   "cell_type": "markdown",
   "id": "4f0317e9-e9a5-4c35-88e7-aecd27d62366",
   "metadata": {},
   "source": [
    "## Character Classes\n",
    "\n",
    "Character classes allow us to refer to any character inside of a set of characters.\n",
    "Most regex language/engines will have built-in character classes,\n",
    "and also the ability to define custom character classes.\n",
    "\n",
    "### Digits\n",
    "\n",
    "The built-in digit character class is `\\d`, and will match any digit (0-9).\n",
    "The inverse class (not a digit) is also available using `\\D`.\n",
    "`\\d` and `\\D` do not overlap and together match everything,\n",
    "this will be true for all the character classes we will cover."
   ]
  },
  {
   "cell_type": "code",
   "execution_count": null,
   "id": "9ef2ee6c-0489-466a-abac-24ceeaf2808a",
   "metadata": {},
   "outputs": [],
   "source": [
    "digits = ['0', '1', '2', '9']\n",
    "non_digits = ['a', 'Z', '-', '!', ' ']\n",
    "\n",
    "# Try out the digit character class.\n",
    "regex = r'\\d'\n",
    "regex_golf(regex, match_list = digits, nomatch_list = non_digits)\n",
    "\n",
    "# Now switch up the lists, and use the \"non-digit\" character class.\n",
    "regex = r'\\D'\n",
    "regex_golf(regex, match_list = non_digits, nomatch_list = digits)"
   ]
  },
  {
   "cell_type": "markdown",
   "id": "931df13e-4317-4efb-a9ba-05ee6422dc80",
   "metadata": {},
   "source": [
    "### \"Word\" Characters\n",
    "\n",
    "\"Word\" characters are `a-z`, `A-Z`, `0-9`, and `_` (underscore),\n",
    "and are all included in the \"word\" character class: `\\w`.\n",
    "So this includes all ASCII letters, digits, and underscore.\n",
    "Like the digit character class, you can get the inverse class (not a word) using `\\W`."
   ]
  },
  {
   "cell_type": "code",
   "execution_count": null,
   "id": "3ba36746-ffbf-4f9e-932d-93a365b91cba",
   "metadata": {},
   "outputs": [],
   "source": [
    "words = ['a', 'Z', '1', '0', '_']\n",
    "non_words = ['-', '!', ' ']\n",
    "\n",
    "# Try out the word character class.\n",
    "regex = r'\\w'\n",
    "regex_golf(regex, match_list = words, nomatch_list = non_words)\n",
    "\n",
    "# Now switch up the lists, and use the \"non-word\" character class.\n",
    "regex = r'\\W'\n",
    "regex_golf(regex, match_list = non_words, nomatch_list = words)"
   ]
  },
  {
   "cell_type": "markdown",
   "id": "bf05f5f2-68ac-4e5b-ad6c-39df26a22daf",
   "metadata": {},
   "source": [
    "<h3 style=\"color: darkorange\";>★ Task 2: License Plates</h3>\n",
    "\n",
    "Write a regular expression (assigned in the `TASK2_REGEX` variable) that matches standard (non-custom) California license plates within some string:\n",
    "a number, three word characters, and three numbers (seven characters in total).\n",
    "\n",
    "You may assume that:\n",
    " - All digits/letters are used in license plates, **including** underscores '_' and upper/lower case letters.\n",
    " - Numbers and underscores count as word characters (even though the DMV does not agree).\n",
    "\n",
    "A small golfing instance is provided to get you started, but the autograder will check more cases."
   ]
  },
  {
   "cell_type": "code",
   "execution_count": null,
   "id": "14a85575-0d62-4df3-9998-fce79de7ac72",
   "metadata": {},
   "outputs": [],
   "source": [
    "# Put your Task 2 regular expression here.\n",
    "TASK2_REGEX = r''\n",
    "\n",
    "plates = ['1ABC123', '0xyz987']\n",
    "non_plates = ['1234567', 'abcdefg']\n",
    "regex_golf(TASK2_REGEX, match_list = plates, nomatch_list = non_plates)"
   ]
  },
  {
   "cell_type": "markdown",
   "id": "390ed7f8-1b3f-4170-8171-5a49c9e2b8d4",
   "metadata": {},
   "source": [
    "### Whitespace\n",
    "\n",
    "There is also a character class to match whitespace: `\\s`.\n",
    "Whitespace in this context includes characters like spaces, tabs, newlines, carriage returns, etc.\n",
    "The inverse class (not whitespace) is available as `\\S`."
   ]
  },
  {
   "cell_type": "code",
   "execution_count": null,
   "id": "8738bfe8-90bf-4801-b6af-f9d4026af2b9",
   "metadata": {},
   "outputs": [],
   "source": [
    "# You may not be familiar with all of these whitespace character\n",
    "# (since we don't typically use half of them).\n",
    "# These are: [space, tab, newline, carriage return, line feed, vertical tab].\n",
    "whitespace = [' ', '\\t', '\\n', '\\r', '\\f', '\\v']\n",
    "non_whitespace = ['a', 'Z', '1', '0', '_', '-', '!']\n",
    "\n",
    "# Try out the whitespace character class.\n",
    "regex = r'\\s'\n",
    "regex_golf(regex, match_list = whitespace, nomatch_list = non_whitespace)\n",
    "\n",
    "# Now switch up the lists, and use the \"non-whitespace\" character class.\n",
    "regex = r'\\S'\n",
    "regex_golf(regex, match_list = non_whitespace, nomatch_list = whitespace)"
   ]
  },
  {
   "cell_type": "markdown",
   "id": "ec966329-604e-49f8-95ef-310a466bdfeb",
   "metadata": {},
   "source": [
    "### Any Character\n",
    "\n",
    "You can represent (almost) any character using the `.` (dot) character class.\n",
    "This will match anything except newlines (you have to enable a [special option](https://docs.python.org/3/library/re.html#re.DOTALL) for that behavior).\n",
    "For this assignment, we will assume that all matches are always on one line.\n",
    "To make a literal period, you would need to escape it `\\.`."
   ]
  },
  {
   "cell_type": "code",
   "execution_count": null,
   "id": "16e12e2d-8989-44cd-84b5-f1e84e6a5c5c",
   "metadata": {},
   "outputs": [],
   "source": [
    "anything = ['1', '0', 'a', 'Z', '_', ' ', '\\t', '-', '!', '.']\n",
    "non_anything = ['\\n']\n",
    "\n",
    "# Try out the anything character class.\n",
    "regex = r'.'\n",
    "regex_golf(regex, match_list = anything, nomatch_list = non_anything)"
   ]
  },
  {
   "cell_type": "markdown",
   "id": "52de5d12-0766-4a16-b682-e45122dd8b3d",
   "metadata": {},
   "source": [
    "<h3 style=\"color: darkorange\";>★ Task 3: Mysterious Code</h3>\n",
    "\n",
    "Imagine that you are writing a Python program that uses specific \"codes\".\n",
    "These codes are four characters, start with any character, and then end with three digits.\n",
    "\n",
    "You need to write a regex to find all the places in your program that you defined these codes.\n",
    "Thankfully, you started every code variable with the string 'code_', and followed that with a single digit, letter, or underscore.\n",
    "\n",
    "Write a regular expression (assigned in the `TASK3_REGEX` variable) that matches the definition of a code variable.\n",
    "\n",
    "You may assume:\n",
    " - All strings you are trying to match are on one line (they will not have a newline in them), this assumption will apply for this entire assignment.\n",
    " - Code strings will always use double quotes `\"<code>\"`.\n",
    " - A single space character will always be on either side of the assignment operator (equals sign).\n",
    "\n",
    "A small golfing instance is provided to get you started, but the autograder will check more cases."
   ]
  },
  {
   "cell_type": "code",
   "execution_count": null,
   "id": "3f6eaa96-2159-4bee-a328-2c07c790646b",
   "metadata": {},
   "outputs": [],
   "source": [
    "# Put your Task 3 regular expression here.\n",
    "TASK3_REGEX = r''\n",
    "\n",
    "code_assignments = [\n",
    "    'code_a = \"a123\"',\n",
    "    'code__ = \"!098\"',\n",
    "    'code_b = \"1098\"',\n",
    "]\n",
    "\n",
    "non_code_assignments = [\n",
    "    'a = \"a123\"',\n",
    "    'code__ = \"098\"',\n",
    "    'code_ = \"1098\"',\n",
    "]\n",
    "\n",
    "regex_golf(TASK3_REGEX, match_list = code_assignments, nomatch_list = non_code_assignments)"
   ]
  },
  {
   "cell_type": "markdown",
   "id": "2f4e87e9-7043-4f1e-8f36-75cc8a455b71",
   "metadata": {},
   "source": [
    "### Custom Character Classes\n",
    "\n",
    "You can also create your own custom character class using square brackets: `[]`.\n",
    "Any characters inside the square brackets are now inside the character class.\n",
    "So `[abc]` will match any character that is an 'a', 'b', or 'c'.\n",
    "\n",
    "You can invert a custom character class by having a carrot/hat character directly after the opening square bracket.\n",
    "So `[^abc]` will match any character that is **not** an 'a', 'b', or 'c'.\n",
    "To match a literal carrot/hat, you can escape it: `[abc\\^]`.\n",
    "\n",
    "You can also use a dash `-` to represent a range of characters.\n",
    "You can make a range between lowercase characters `[a-z]`, uppercase characters `[A-Z]`, and digits `[0-9]`.\n",
    "Note that you cannot range between lowercase and uppercase characters.\n",
    "To match a literal dash, you can escape it.\n",
    "For example, `[a-z]` matches 'a' *through* 'z', but `[a\\-z]` matches 'a', 'z', or '-'.\n",
    "\n",
    "We can recreate some of our built-in character classes using the custom character class:\n",
    " - `\\d` == `[0-9]`\n",
    " - `\\D` == `[^0-9]`\n",
    " - `\\w` == `[a-zA-Z0-9_]`\n",
    " - `\\W` == `[^a-zA-Z0-9_]`\n",
    " - `\\s` == `[ \\t\\n\\r\\f\\v]`\n",
    " - `\\S` == `[^ \\t\\n\\r\\f\\v]`"
   ]
  },
  {
   "cell_type": "code",
   "execution_count": null,
   "id": "6412d0bb-521a-4938-a10f-b7dbf6b398c3",
   "metadata": {},
   "outputs": [],
   "source": [
    "abc = ['a', 'b', 'c']\n",
    "non_abc = ['A', '1', ' ', '-', '!']\n",
    "\n",
    "# Try out a custom character class.\n",
    "regex = r'[abc]'\n",
    "regex_golf(regex, match_list = abc, nomatch_list = non_abc)\n",
    "\n",
    "# Now switch up the lists, and invert out custom character class.\n",
    "regex = r'[^abc]'\n",
    "regex_golf(regex, match_list = non_abc, nomatch_list = abc)\n",
    "\n",
    "# We can also match some of the character classes we have seen in the past.\n",
    "\n",
    "regex = r'[0-9]'\n",
    "regex_golf(regex, match_list = digits, nomatch_list = non_digits)\n",
    "\n",
    "regex = r'[a-zA-Z_0-9]'\n",
    "regex_golf(regex, match_list = words, nomatch_list = non_words)\n",
    "\n",
    "regex = r'[ \\t\\n\\r\\f\\v]'\n",
    "regex_golf(regex, match_list = whitespace, nomatch_list = non_whitespace)"
   ]
  },
  {
   "cell_type": "markdown",
   "id": "98f291f0-ebba-4a8d-b2a1-442fa8331eb4",
   "metadata": {},
   "source": [
    "<h3 style=\"color: darkorange\";>★ Task 4: Mysterious Code - Better</h3>\n",
    "\n",
    "Let's improve upon Task 3 to make it more realistic.\n",
    "\n",
    " - Instead of the character after \"code_\" being a digit, letter, or underscore, force this character to be a lowercase letter.\n",
    " - Allow either a single tab or space to be used on either side side of the assignment operator (equals sign).\n",
    " - Force the first letter of the code to be a letter (lowercase or uppercase) or a digit.\n",
    "\n",
    "Write a regular expression (assigned in the `TASK4_REGEX` variable) that matches the definition of a code variable as modified above.\n",
    "\n",
    "A small golfing instance is provided to get you started, but the autograder will check more cases."
   ]
  },
  {
   "cell_type": "code",
   "execution_count": null,
   "id": "1e3da562-577a-4e38-a48d-99cb4f2babab",
   "metadata": {},
   "outputs": [],
   "source": [
    "# Put your Task 4 regular expression here.\n",
    "TASK4_REGEX = r''\n",
    "\n",
    "code_assignments = [\n",
    "    'code_a = \"a123\"',\n",
    "    'code_b = \"1098\"',\n",
    "    'code_c\\t=\\t\"z395\"',\n",
    "]\n",
    "\n",
    "non_code_assignments = [\n",
    "    'a = \"a123\"',\n",
    "    'code__ = \"098\"',\n",
    "    'code_ = \"1098\"',\n",
    "    'code_33 = \"Z456\"',\n",
    "    'code__ = \"!098\"',\n",
    "    'code_3 = \"Z456\"',\n",
    "]\n",
    "\n",
    "regex_golf(TASK4_REGEX, match_list = code_assignments, nomatch_list = non_code_assignments)"
   ]
  },
  {
   "cell_type": "markdown",
   "id": "c25a7c02-1efb-4f4b-a29b-71f7ccdffc50",
   "metadata": {},
   "source": [
    "## Anchors\n",
    "\n",
    "When using regular expressions sometimes you will not just want to match something inside of a string/line,\n",
    "but you will want to match the **entire** string/line.\n",
    "To do this, you can use **anchors**.\n",
    "Anchors do not match an actual character (they **do not consume** a character in your string),\n",
    "but instead match the beginning or end of a string/line.\n",
    "\n",
    "`^` (carrot/hat) is the beginning anchor, and matches right before the first character in a string or right after a newline (the beginning of a line).\n",
    "Remember `^` does not consume an actual character, but matches right before the first character.\n",
    "\n",
    "`$` (dollar sign) is the end anchor, and matches right after the last character in a string or right before a newline (the end of a line).\n",
    "Remember `$` does not consume an actual character, but matches right after the last character.\n",
    "\n",
    "In many regular expression engines, you can enable [\"multiline\" matching](https://docs.python.org/3/library/re.html#re.MULTILINE)\n",
    "which allows you to make matches across newlines.\n",
    "This option changes the semantics of anchors and depends on the specific engine you are using.\n",
    "Multiline matching is outside the scope of this assignment."
   ]
  },
  {
   "cell_type": "code",
   "execution_count": null,
   "id": "7cbddfa2-9b6e-43f8-82f0-a6746047cd88",
   "metadata": {},
   "outputs": [],
   "source": [
    "# With no anchors, we match a lot of things that are dog-related.\n",
    "regex = r'dog'\n",
    "dog = ['dog', 'dogs', 'doggy', 'doge', 'hot dog']\n",
    "non_dog = ['dg', 'do', 'dawg']\n",
    "regex_golf(regex, match_list = dog, nomatch_list = non_dog)\n",
    "\n",
    "# With both anchors, we only match exactly dog.\n",
    "regex = r'^dog$'\n",
    "dog = ['dog']\n",
    "non_dog = ['dg', 'do', 'dawg', 'dogs', 'doggy', 'doge', 'hot dog']\n",
    "regex_golf(regex, match_list = dog, nomatch_list = non_dog)\n",
    "\n",
    "# We can also decide to only include one of the anchors for more flexibility.\n",
    "\n",
    "regex = r'^dog'\n",
    "dog = ['dog', 'dogs', 'doggy', 'doge']\n",
    "non_dog = ['dg', 'do', 'dawg', 'hot dog']\n",
    "regex_golf(regex, match_list = dog, nomatch_list = non_dog)\n",
    "\n",
    "regex = r'dog$'\n",
    "dog = ['dog', 'hot dog']\n",
    "non_dog = ['dg', 'do', 'dawg', 'dogs', 'doggy', 'doge']\n",
    "regex_golf(regex, match_list = dog, nomatch_list = non_dog)"
   ]
  },
  {
   "cell_type": "markdown",
   "id": "f94bb517-4db7-466e-9718-91b7b641089d",
   "metadata": {},
   "source": [
    "<h3 style=\"color: darkorange\";>★ Task 5: Finding Bad Data</h3>\n",
    "\n",
    "Imagine that you are working with some chemists and they give you a big dump of data from some machines.\n",
    "But, some of the machines are broken and sometimes give out bad numbers that are floating point hexadecimal numbers.\n",
    "The chemists have told you that the bad numbers have these attributes:\n",
    " - They are hexadecimal and always start with a `0x`.\n",
    " - They are always floating point with two places after the point.\n",
    " - They are always between `0x10.00` and `0xff.ff`.\n",
    " - They appear on a line all by themselves.\n",
    " - The data uses only lowercase letters for hex.\n",
    "\n",
    "[Hexadecimal numbers](https://en.wikipedia.org/wiki/Hexadecimal) are base 16 numbers and are represented with the numbers 0 - 9 (like normal numbers) and a - f.\n",
    "In code, they are typically prefixed with `0x` to differentiate them from decimal numbers.\n",
    "So `0x5 == 5`, `0xa == 10`, `0xf == 15`, and `0x10 == 16`.\n",
    "\n",
    "Your task is to write a regular expression (assigned in the `TASK5_REGEX` variable) that finds these bad data points.\n",
    "\n",
    "A small golfing instance is provided to get you started, but the autograder will check more cases."
   ]
  },
  {
   "cell_type": "code",
   "execution_count": null,
   "id": "862affdb-53b5-4e51-a557-5adf3f702424",
   "metadata": {},
   "outputs": [],
   "source": [
    "# Put your Task 5 regular expression here.\n",
    "TASK5_REGEX = r''\n",
    "\n",
    "bad_data = ['0x12.34', '0xfe.dc']\n",
    "non_bad_data = ['12.34', 'fedc', 'other 0x12.34 junk']\n",
    "regex_golf(TASK5_REGEX, match_list = bad_data, nomatch_list = non_bad_data)"
   ]
  },
  {
   "cell_type": "markdown",
   "id": "dfc2915f-fde0-45bd-ad44-03c7abd5f076",
   "metadata": {},
   "source": [
    "## Repetitions\n",
    "\n",
    "Another core feature of regular expressions is the ability to handle repetition.\n",
    "There are several different ways to handle repetition in regular expressions\n",
    "(and then a generic way that can cover all cases).\n",
    "We call symbols that signal repetition operations \"quantifiers\".\n",
    "In this section we will be dealing with repeating character (or character classes),\n",
    "but quantifiers can be applied to groups of characters (which we will discuss later).\n",
    "\n",
    "### None or One\n",
    "\n",
    "The simplest form of repetition is declaring that a character can appear once or not at all,\n",
    "e.g. an optional character.\n",
    "To do this, simple follow a character with a `?` (question mark).\n",
    "For example, `too?` will match both \"to\" and \"too\".\n",
    "You can apply repetition to character classes in the same way:\n",
    "`to[onp]?` will match \"to\", \"too\", \"ton\" and \"top\" (but not \"toon\")."
   ]
  },
  {
   "cell_type": "code",
   "execution_count": null,
   "id": "a50ccb10-4155-4eef-b9cd-f13828e3eda2",
   "metadata": {},
   "outputs": [],
   "source": [
    "# We can attach a quantifier to a character.\n",
    "regex = r'^too?$'\n",
    "match = ['to', 'too']\n",
    "non_match = ['t', 'tooo', 'ta', 'tooooooooooooooooooooooooooooooooooooo']\n",
    "regex_golf(regex, match_list = match, nomatch_list = non_match)\n",
    "\n",
    "# We can also attach a quantifier to a character class.\n",
    "regex = r'^\\d\\d?$'\n",
    "match = ['0', '9', '00', '99']\n",
    "non_match = ['', '-1', '100']\n",
    "regex_golf(regex, match_list = match, nomatch_list = non_match)\n",
    "\n",
    "# This includes custom character class.\n",
    "# This one matches a hex nibble (half a byte) or byte.\n",
    "regex = r'^[0-9a-f][0-9a-f]?$'\n",
    "match = ['0', 'f', '00', '5a', 'ff']\n",
    "non_match = ['', 'z', 'zz', '000', 'ffff']\n",
    "regex_golf(regex, match_list = match, nomatch_list = non_match)"
   ]
  },
  {
   "cell_type": "markdown",
   "id": "38456a65-17d7-44da-8d56-cb50c2f452f0",
   "metadata": {},
   "source": [
    "### None or Many\n",
    "\n",
    "You can use a `*` (asterisk/star) to declare that a character can appear any number of times or not at all.\n",
    "This is also called a [\"Kleene Star\"](https://en.wikipedia.org/wiki/Kleene_star)."
   ]
  },
  {
   "cell_type": "code",
   "execution_count": null,
   "id": "5dde4be6-c5ce-41dc-ad20-d0d580182774",
   "metadata": {},
   "outputs": [],
   "source": [
    "regex = r'^too*$'\n",
    "match = ['to', 'too', 'tooo', 'tooooooooooooooooooooooooooooooooooooo']\n",
    "non_match = ['t', 'ta']\n",
    "regex_golf(regex, match_list = match, nomatch_list = non_match)"
   ]
  },
  {
   "cell_type": "markdown",
   "id": "6795543f-7973-44a1-bc26-b3560c8b7f51",
   "metadata": {},
   "source": [
    "### One or Many\n",
    "\n",
    "To match a character at least once and at most unlimited times,\n",
    "you can use a `+` (plus)."
   ]
  },
  {
   "cell_type": "code",
   "execution_count": null,
   "id": "ac735dd5-a510-4126-b61b-df878443e577",
   "metadata": {},
   "outputs": [],
   "source": [
    "regex = r'^too+$'\n",
    "match = ['too', 'tooo', 'tooooooooooooooooooooooooooooooooooooo']\n",
    "non_match = ['to', 't', 'ta']\n",
    "regex_golf(regex, match_list = match, nomatch_list = non_match)"
   ]
  },
  {
   "cell_type": "markdown",
   "id": "37be1bf1-a5db-4bf7-b87c-684116cd70c3",
   "metadata": {},
   "source": [
    "### General Repetition\n",
    "\n",
    "Curly braces (`{}`) can be used to for generalized repetition,\n",
    "and they can cover all the cases we previously discussed and more.\n",
    "The basic syntax is `{m,n}`,\n",
    "where `m` is the *minimum* number or repetitions and `n` is the *maximum* number of repetitions.\n",
    "`m` can be omitted if you want zero minimum repetition,\n",
    "and `n` can be omitted if you want infinite maximum repetitions.\n",
    "Some regex engines like Python allow you to just do `{n}` when `m == n`.\n",
    "\n",
    "Therefore, you can use `to{1,2}` to match \"to\" and \"too\".\n",
    "\n",
    "With this we can recreate all our other quantifiers:\n",
    " - `?` == `{0,1}`\n",
    " - `*` == `{0,}`\n",
    " - `+` == `{1,}`"
   ]
  },
  {
   "cell_type": "code",
   "execution_count": null,
   "id": "eb0c6ed1-c1be-45bf-bcff-ac8ce9d05c19",
   "metadata": {},
   "outputs": [],
   "source": [
    "regex = r'^to{1,2}$'\n",
    "match = ['to', 'too']\n",
    "non_match = ['t', 'ta', 'tooo', 'tooooooooooooooooooooooooooooooooooooo']\n",
    "regex_golf(regex, match_list = match, nomatch_list = non_match)"
   ]
  },
  {
   "cell_type": "markdown",
   "id": "9c924962-51a5-4bf1-87fc-c0dfe8768755",
   "metadata": {},
   "source": [
    "<h3 style=\"color: darkorange\";>★ Task 6: Finding Bad Data - Better</h3>\n",
    "\n",
    "Let's improve our regex from Task 5 and make it more general.\n",
    "\n",
    "For this task, we will make the following modifications from Task 5:\n",
    " - Instead of assuming that the bad numbers are all floating point,\n",
    "     assume that they can be ints or floats (so there may be no point).\n",
    " - Instead of assuming that the bad numbers are in \\[`0x10.00`, `0xff.ff`\\],\n",
    "     assume they are just non-negative.\n",
    " - Instead of assuming that there are exactly two hex digits after the point,\n",
    "     assume that there can be any number (in cases where there is a point at all).\n",
    " - Assume that each number will have at least one hex digit before the point if a point exists.\n",
    " - Bad numbers with a trailing point may appear and should be matched.\n",
    "     For example, `0x12.` should be matched, but **not** `0x12.34.`.\n",
    "\n",
    "Your task is to write a regular expression (assigned in the `TASK6_REGEX` variable) that finds these bad data points.\n",
    "\n",
    "A small golfing instance is provided to get you started, but the autograder will check more cases."
   ]
  },
  {
   "cell_type": "code",
   "execution_count": null,
   "id": "f662c3aa-0fa7-4656-a906-a2a3c8d72821",
   "metadata": {},
   "outputs": [],
   "source": [
    "# Put your Task 6 regular expression here.\n",
    "TASK6_REGEX = r''\n",
    "\n",
    "bad_data = ['0x12.34', '0xfe.dc', '0x123456789.abcdef', '0xf', '0x0001.0', '0x12.']\n",
    "non_bad_data = ['12.34', 'fedc', 'other 0x12.34 junk', '0x12.34.']\n",
    "regex_golf(TASK6_REGEX, match_list = bad_data, nomatch_list = non_bad_data)"
   ]
  },
  {
   "cell_type": "markdown",
   "id": "bd7be96d-8d11-43cd-8900-fae29adb7058",
   "metadata": {},
   "source": [
    "Notice that (hopefully) you regex has gotten simpler (or at least shorter) between Task 5 and Task 6 even though we allow many more cases."
   ]
  },
  {
   "cell_type": "markdown",
   "id": "d35eb8eb-6387-4770-8e6b-1fd48701b985",
   "metadata": {},
   "source": [
    "## Capture Groups\n",
    "\n",
    "()\n",
    "\n",
    "Back Reference"
   ]
  },
  {
   "cell_type": "markdown",
   "id": "77274f9d-bca8-4194-a0c9-f5c35793aa6f",
   "metadata": {},
   "source": [
    "## Word Boundaries\n",
    "\n",
    "## Disjunction"
   ]
  }
 ],
 "metadata": {
  "kernelspec": {
   "display_name": "Python 3 (ipykernel)",
   "language": "python",
   "name": "python3"
  },
  "language_info": {
   "codemirror_mode": {
    "name": "ipython",
    "version": 3
   },
   "file_extension": ".py",
   "mimetype": "text/x-python",
   "name": "python",
   "nbconvert_exporter": "python",
   "pygments_lexer": "ipython3",
   "version": "3.11.6"
  }
 },
 "nbformat": 4,
 "nbformat_minor": 5
}

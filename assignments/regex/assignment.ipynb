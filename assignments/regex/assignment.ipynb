{
 "cells": [
  {
   "cell_type": "markdown",
   "id": "f24bf10d-373b-46a7-9c84-820148d79cf9",
   "metadata": {},
   "source": [
    "# Regular Expressions\n",
    "\n",
    "[Regular expressions](https://en.wikipedia.org/wiki/Regular_expression) (also called \"regexp\" or \"regex\") are patterns that let you find matching text.\n",
    "Think of them like mathematical expressions for text (an equation can define a line (collection of points), and a regex can define a collection of strings).\n",
    "When starting off, regular expressions can be pretty confusing.\n",
    "But once you get comfortable using them, you start to see how they can be used in almost all of your everyday coding.\n",
    "\n",
    "<center><img src=\"xkcd-regular-expressions.png\"/></center>\n",
    "<center style='font-size: small'>Comic courtesy of <a href='https://xkcd.com/208'>xkcd</a></center>\n",
    "\n",
    "Aside from this assignment, here are some resources on regular expressions that you may find helpful:\n",
    " - [Text Tutorial](https://www.sitepoint.com/learn-regex/)\n",
    " - [Video Tutorial](https://www.youtube.com/watch?v=sa-TUpSx1JA)\n",
    " - [Cheat Sheet](https://cheatography.com/davechild/cheat-sheets/regular-expressions/)\n",
    " - [Regex Playground](https://regex101.com/) (Interactively create, test, and visualize regular expressions.)\n",
    " - [Python Regex Tutorial](https://docs.python.org/3/howto/regex.html)\n",
    "\n",
    "Take your time and break down the regex into one piece at a time."
   ]
  },
  {
   "cell_type": "markdown",
   "id": "661f5fb0-5daf-4135-83c1-b26ad9ffde3b",
   "metadata": {},
   "source": [
    "## Regular Expressions in Python\n",
    "\n",
    "We will be using Python for this exercise (hence the iPython notebook),\n",
    "so we will be using the `re` Python standard library.\n",
    "Almost every major programming language has regular expressions either built-in or supported in a standard library.\n",
    "There may be slight variations in the syntax and semantics from language to language,\n",
    "but the core functionality will all be the same.\n",
    "\n",
    "### \"Normal\" Characters\n",
    "\n",
    "The most simple regular expressions can be used to match strings in the same way that you would use another string to match a string\n",
    "(like if you were using [`str.find()`](https://docs.python.org/3/library/stdtypes.html#str.find) or [`str.replace()`](https://docs.python.org/3/library/stdtypes.html#str.replace).\n",
    "Just type the characters that you want to match.\n",
    "\n",
    "foo\n",
    "\n",
    "```\n",
    "```\n",
    "\n",
    "\n",
    "### Special Characters\n",
    "\n",
    "```\n",
    ". ^ $ * + ? { } [ ] \\ | ( )\n",
    "```\n",
    "\n",
    "When writing regular expressions in Python, you will probably want to use a [\"raw string\"](https://docs.python.org/3/reference/lexical_analysis.html#escape-sequences).\n",
    "Raw strings do not interpret excape characters, so you don't have to double escape backslashes or accidentally create escape characters."
   ]
  },
  {
   "cell_type": "markdown",
   "id": "c5ea2bb5-098c-4d1f-bbbc-576162a212ea",
   "metadata": {},
   "source": [
    "To test your understanding of the concepts throughout this assignment,\n",
    "we will use a game called \"Regex Golf\".\n",
    "In Regex Golf, you have will have two sets of strings.\n",
    "You want to match all the strings in the first list, while not matching all the string in the second list."
   ]
  },
  {
   "cell_type": "code",
   "execution_count": null,
   "id": "f463a220-bb3b-407e-be39-aa1a508459ae",
   "metadata": {},
   "outputs": [],
   "source": [
    "def regex_golf(regex, match_list, nomatch_list):\n",
    "    success = True\n",
    "    \n",
    "    for match_value in match_list:\n",
    "        match = re.search(regex, match_value)\n",
    "        if (match is None):\n",
    "            print(\"Error: Failed to match '%s'.\" % (match_value))\n",
    "            success = False\n",
    "    \n",
    "    for nomatch_value in nomatch_list:\n",
    "        match = re.search(regex, nomatch_value)\n",
    "        if (match is not None):\n",
    "            print(\"Error: Incorrectly matched '%s'.\" % (nomatch_value))\n",
    "            success = False\n",
    "\n",
    "    return success"
   ]
  },
  {
   "cell_type": "code",
   "execution_count": null,
   "id": "f734d4b5-d81b-4938-9241-0dc95fb78970",
   "metadata": {},
   "outputs": [],
   "source": [
    "matches = [\n",
    "    'foo',\n",
    "    'foorbar',\n",
    "    'football'\n",
    "]\n",
    "\n",
    "nomatches = [\n",
    "    'fourty',\n",
    "    'FOO',\n",
    "    'bar',\n",
    "    '123',\n",
    "]\n",
    "\n",
    "task1_regex = r''\n",
    "regex_golf(task1_regex, matches, nomatches)"
   ]
  },
  {
   "cell_type": "code",
   "execution_count": null,
   "id": "53e59580-0754-49c8-b708-7b4bb2066d92",
   "metadata": {},
   "outputs": [],
   "source": [
    "string = 'A literal backslash: \"\\\\\"'\n",
    "raw_string = r'A literal backslash: \"\\\"'\n",
    "\n",
    "print(\"string:     \", string)\n",
    "print(\"raw string: \", raw_string)\n",
    "print(string == raw_string)"
   ]
  },
  {
   "cell_type": "code",
   "execution_count": null,
   "id": "c8623290-f316-4955-b8c7-f1c865c68d8a",
   "metadata": {},
   "outputs": [],
   "source": [
    "import re\n",
    "\n",
    "string = \"What is 'foo bar'?\"\n",
    "print(re.search('foo', string))"
   ]
  },
  {
   "cell_type": "markdown",
   "id": "997f6552-beb8-42ac-9656-8c3c8c010c43",
   "metadata": {},
   "source": [
    "### Warning: re.search() vs re.match()\n",
    "\n",
    "Be careful about the subtle (and important) differences between the main matching functions in the `re` library.\n",
    "\n",
    "`re.search()` looks for a match within a string (and it can be the entire string).\n",
    "`re.match()` tries to match **the entire** string.\n",
    "\n",
    "Eriq's tip:\n",
    "In almost all cases, just use `re.search()` instead of `re.match()`.\n",
    "If you want to match the beginning or end of strings, use anchors."
   ]
  },
  {
   "cell_type": "code",
   "execution_count": null,
   "id": "0e20bfdd-d736-48a1-bf07-d3724388ffdc",
   "metadata": {},
   "outputs": [],
   "source": [
    "# TODO: Example search() vs match()"
   ]
  },
  {
   "cell_type": "markdown",
   "id": "4f0317e9-e9a5-4c35-88e7-aecd27d62366",
   "metadata": {},
   "source": [
    "## Character Classes\n",
    "\n",
    "Character classes allow us to refer to any character inside of a set of characters.\n",
    "Most regex language/engines will have built-in character classes,\n",
    "and also the ability to define custom character classes.\n",
    "\n",
    "### Digits\n",
    "\n",
    "The built-in digit character class is `\\d`, and will match any digit (0-9).\n",
    "The inverse class (not a digit) is also available using `\\D`.\n",
    "`\\d` and `\\D` do not overlap and together match everything,\n",
    "this will be true for all the character classes we will cover.\n",
    "\n",
    "### \"Word\" Characters\n",
    "\n",
    "\"Word\" characters are `a-z`, `A-Z` and `_` (underscore),\n",
    "and are all included in the \"word\" character class: `\\w`.\n",
    "Like the digit character class, you can get the inverse class (not a word) using `\\W`.\n",
    "\n",
    "### Whitespace\n",
    "\n",
    "There is also a character class to match whitespace: `\\s`.\n",
    "Whitespace in this context includes characters like spaces, tabs, newlines, carrige returns, etc.\n",
    "The inserve class (not whitespace) is availble as `\\S`.\n",
    "\n",
    "### Any Character\n",
    "\n",
    "You can represent (almost) any character using the `.` (dot) character classs.\n",
    "This will match anything except newlines (you have to enable a special option for that behavior).\n",
    "To make a literal period, you would need to escape it `\\.`.\n",
    "\n",
    "### Custom Character Classes\n",
    "\n",
    "You can also create your own custom character class using square brackets: `[]`.\n",
    "Any characters inside the square brackets are now inside the character class.\n",
    "So `[abc]` will match any character that is an 'a', 'b', or 'c'.\n",
    "\n",
    "You can invert a custom character class by having a carrot/hat character directly after the opening square bracket.\n",
    "So `[^abc]` will match any character that is **not** an 'a', 'b', or 'c'.\n",
    "To match a literal carrot/hat, you can escape it: `[abc\\^]`.\n",
    "\n",
    "You can also use a dash `-` to represent a range of characters.\n",
    "You can make a range between lowercase characters `[a-z]`, uppercase characters `[A-Z]`, and digits `[0-9]`.\n",
    "Note that you cannot range between lowercase and uppercasse characters.\n",
    "To match a literal dash, you can escape it.\n",
    "For example, `[a-z]` matches 'a' *through* 'z', but `[a\\-z]` matches 'a', 'z', or '-'.\n",
    "\n",
    "We can recreate some of our built-in character classes using the custom character class:\n",
    " - `\\d` == `[0-9]`\n",
    " - `\\D` == `[^0-9]`\n",
    " - `\\w` == `[a-zA-Z]`\n",
    " - `\\W` == `[^a-zA-Z]`\n",
    " - `\\s` == `[ \\t\\n\\r\\f\\v]`\n",
    " - `\\S` == `[^ \\t\\n\\r\\f\\v]`"
   ]
  },
  {
   "cell_type": "markdown",
   "id": "dfc2915f-fde0-45bd-ad44-03c7abd5f076",
   "metadata": {},
   "source": [
    "## Repetitions\n",
    "\n",
    "Another core feature of regular expressions is the ability to handle repetition.\n",
    "\n",
    "### Once or None\n",
    "\n",
    "You can use a `?` (question mark) to declare that a character (or class) should appear once or not at all.\n",
    "For example, `too?` will match both \"to\" and \"too\".\n",
    "You can also apply repetition to character classes:\n",
    "`to[onp]?` will match \"to\", \"too\", \"ton\" and \"top\" (but not \"toon\").\n",
    "\n",
    "### None or Many\n",
    "\n",
    "You can use a '*' (asterisk/star) to declare that a character can appear an number of times or not at all.\n",
    "This is also called a [\"Kleene Star\"](https://en.wikipedia.org/wiki/Kleene_star).\n",
    "\n",
    "TODO: EXAMPLE\n",
    "\n",
    "Once or None\n",
    "\\[0, 1]\n",
    "\n",
    "None or many\n",
    "\\[0, ∞]\n",
    "\n",
    "One or many\n",
    "\\[1, ∞]\n",
    "\n",
    "Specific Number\n",
    "{n}\n",
    "{n, m}\n",
    "{,m}\n",
    "{n,}"
   ]
  },
  {
   "cell_type": "markdown",
   "id": "9fb6b878-4daa-4ef6-91e5-9b53150ebb39",
   "metadata": {},
   "source": [
    "## Anchors\n",
    "\n",
    "^\n",
    "\n",
    "$"
   ]
  },
  {
   "cell_type": "markdown",
   "id": "d35eb8eb-6387-4770-8e6b-1fd48701b985",
   "metadata": {},
   "source": [
    "## Capture Groups\n",
    "\n",
    "()\n",
    "\n",
    "Back Reference"
   ]
  },
  {
   "cell_type": "markdown",
   "id": "c7481677-d99b-484b-9429-112d10c87453",
   "metadata": {},
   "source": [
    "<h3 style=\"color: darkorange\";>★ Task 1.A</h3>\n",
    "\n",
    "Edit the following function to return `True`."
   ]
  },
  {
   "cell_type": "code",
   "execution_count": null,
   "id": "3e543a4b-2655-4da9-a4f8-b57269d8d2ea",
   "metadata": {},
   "outputs": [],
   "source": [
    "def my_function():\n",
    "    \"\"\"\n",
    "    The output of this function will be tested (it must return True).\n",
    "    \"\"\"\n",
    "\n",
    "    return NotImplemented\n",
    "\n",
    "my_function()"
   ]
  },
  {
   "cell_type": "markdown",
   "id": "a8b4605d-578b-4ea6-966b-edb3e7022e6d",
   "metadata": {},
   "source": [
    "After editing `my_function()`, run the above code cell (CTRL+Enter).\n",
    "Running the cell both defines the function (the `def` part) and runs it (the last line in the cell).\n",
    "Note that by default the last value declared in a cell is printed as output.\n",
    "\n",
    "The above cell should now return `True` instead of `NotImplemented` or raising an exception.\n",
    "Most (but not all) functions you will be asked to implement in the future will provide an implementation that runs,\n",
    "but does not produce the correct output.\n",
    "You will always be expected to edit the functions to return the correct results."
   ]
  }
 ],
 "metadata": {
  "kernelspec": {
   "display_name": "Python 3 (ipykernel)",
   "language": "python",
   "name": "python3"
  },
  "language_info": {
   "codemirror_mode": {
    "name": "ipython",
    "version": 3
   },
   "file_extension": ".py",
   "mimetype": "text/x-python",
   "name": "python",
   "nbconvert_exporter": "python",
   "pygments_lexer": "ipython3",
   "version": "3.11.6"
  }
 },
 "nbformat": 4,
 "nbformat_minor": 5
}
